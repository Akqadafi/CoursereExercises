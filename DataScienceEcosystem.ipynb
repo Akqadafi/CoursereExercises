{
 "cells": [
  {
   "cell_type": "markdown",
   "id": "1ab5ac4b-8ba0-458a-8929-2c465a8c5fc8",
   "metadata": {},
   "source": [
    "# Data Science Tools and Ecosystem"
   ]
  },
  {
   "cell_type": "markdown",
   "id": "7a8fcd89-5382-42eb-a9b2-3ce97a8e73da",
   "metadata": {},
   "source": [
    "In this notebook, Data Science Tools and Ecosystem are summarized."
   ]
  },
  {
   "cell_type": "markdown",
   "id": "4d5e4d28-cc4d-4875-984b-554f148eba07",
   "metadata": {},
   "source": [
    "**Objectives:**\n",
    "\n",
    "- List popular languages for Data Science\n",
    "- Learn how to create and execute code cells in Jupyter Notebook\n",
    "- Learn how to create and format markdown cells in Jupyter Notebook\n",
    "- Understand basic arithmetic operations in Python\n"
   ]
  },
  {
   "cell_type": "markdown",
   "id": "7e397b83-4707-441d-90f3-748156ef3322",
   "metadata": {},
   "source": [
    "Some of the popular languages that Data Scientists use are:\n",
    "\n",
    "1. Python\n",
    "2. R\n",
    "3. SQL\n",
    "4. Julia\n"
   ]
  },
  {
   "cell_type": "markdown",
   "id": "314ba4ea-c0b9-49e2-98d6-7c30faa47563",
   "metadata": {},
   "source": [
    "Some of the commonly used libraries used by Data Scientists include:\n",
    "\n",
    "1. Pandas (Python)\n",
    "2. NumPy (Python)\n",
    "3. Matplotlib (Python)\n",
    "4. ggplot2 (R)\n",
    "5. dplyr (R)\n"
   ]
  },
  {
   "cell_type": "markdown",
   "id": "943154bb-80d5-4c47-a730-31318be84f96",
   "metadata": {},
   "source": [
    "| Data Science Tools |\n",
    "| ------------------ |\n",
    "| Jupyter Notebook   |\n",
    "| RStudio            |\n",
    "| Apache Zeppelin    |\n"
   ]
  },
  {
   "cell_type": "markdown",
   "id": "f7e0bfc5-371c-415d-b8c1-610bd154746f",
   "metadata": {},
   "source": [
    "### Below are a few examples of evaluating arithmetic expressions in Python\n"
   ]
  },
  {
   "cell_type": "code",
   "execution_count": 6,
   "id": "c8ace126-932e-4c1d-853e-676b1a99f23a",
   "metadata": {
    "tags": []
   },
   "outputs": [
    {
     "data": {
      "text/plain": [
       "17"
      ]
     },
     "execution_count": 6,
     "metadata": {},
     "output_type": "execute_result"
    }
   ],
   "source": [
    "# This a simple arithmetic expression to multiply then add integers\n",
    "(3*4) + 5"
   ]
  },
  {
   "cell_type": "code",
   "execution_count": 7,
   "id": "6267f4d2-d2ae-4202-be93-7729a196716d",
   "metadata": {
    "tags": []
   },
   "outputs": [
    {
     "data": {
      "text/plain": [
       "3.3333333333333335"
      ]
     },
     "execution_count": 7,
     "metadata": {},
     "output_type": "execute_result"
    }
   ],
   "source": [
    "# This will convert 200 minutes to hours by dividing by 60\n",
    "200 / 60"
   ]
  },
  {
   "cell_type": "markdown",
   "id": "1bf70741-6d57-4bb5-915f-815fd12c9297",
   "metadata": {},
   "source": [
    "## Author\n",
    "Ahmad Qadafi"
   ]
  },
  {
   "cell_type": "code",
   "execution_count": null,
   "id": "aaad41c4-3d6a-4073-bbbd-d5a479b901fd",
   "metadata": {},
   "outputs": [],
   "source": []
  }
 ],
 "metadata": {
  "kernelspec": {
   "display_name": "Python",
   "language": "python",
   "name": "conda-env-python-py"
  },
  "language_info": {
   "codemirror_mode": {
    "name": "ipython",
    "version": 3
   },
   "file_extension": ".py",
   "mimetype": "text/x-python",
   "name": "python",
   "nbconvert_exporter": "python",
   "pygments_lexer": "ipython3",
   "version": "3.7.12"
  }
 },
 "nbformat": 4,
 "nbformat_minor": 5
}
